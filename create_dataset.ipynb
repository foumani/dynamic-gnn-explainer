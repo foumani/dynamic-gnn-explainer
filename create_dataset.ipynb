{
 "cells": [
  {
   "cell_type": "code",
   "execution_count": 69,
   "outputs": [],
   "source": [
    "from generator.DynamicGraphGenerator import DynamicGraphGenerator\n",
    "\n",
    "dyn_generator = DynamicGraphGenerator(T=5, size=200, n_motif=200, p_dynamic_noise=0.1)"
   ],
   "metadata": {
    "collapsed": false,
    "pycharm": {
     "name": "#%%\n"
    }
   }
  },
  {
   "cell_type": "code",
   "execution_count": null,
   "outputs": [],
   "source": [
    "trains_graphs, train_roles = dyn_generator.generate()\n",
    "val_graphs, val_roles = dyn_generator.generate()\n",
    "test_graphs, test_roles = dyn_generator.generate()"
   ],
   "metadata": {
    "collapsed": false,
    "pycharm": {
     "name": "#%%\n",
     "is_executing": true
    }
   }
  },
  {
   "cell_type": "code",
   "execution_count": 71,
   "outputs": [],
   "source": [
    "import pandas as pd\n",
    "\n",
    "def save_labels(graphs, roles, postfix):\n",
    "    classes = pd.DataFrame(columns=[0, 1])\n",
    "    roles_series = pd.Series(roles)\n",
    "    nodes_series = pd.Series([i for i in range(len(roles))])\n",
    "    classes[0] = nodes_series\n",
    "    classes[1] = roles_series\n",
    "    classes.to_csv(f\"/evolvegcn/explanation_data/5weeks/node_labels_{postfix}.csv\", index=False)\n",
    "\n",
    "save_labels(trains_graphs, train_roles, \"train\")\n",
    "save_labels(val_graphs, val_roles, \"dev\")\n",
    "save_labels(test_graphs, test_roles, \"test\")"
   ],
   "metadata": {
    "collapsed": false,
    "pycharm": {
     "name": "#%%\n"
    }
   }
  },
  {
   "cell_type": "code",
   "execution_count": 72,
   "outputs": [],
   "source": [
    "def save_graphs(graphs, roles, postfix):\n",
    "    for t in range(len(graphs)):\n",
    "        graph = graphs[t]\n",
    "        edgelist = pd.DataFrame(columns=[\"user_id\", \"behavioural_data\", \"clicks\"])\n",
    "        a, b, times = [], [], []\n",
    "        for e in graph.edges:\n",
    "            a.append(e[0])\n",
    "            b.append(e[1])\n",
    "            times.append(1)\n",
    "        a_series = pd.to_numeric(pd.Series(a))\n",
    "        b_series = pd.to_numeric(pd.Series(b))\n",
    "        t_series = pd.to_numeric(pd.Series(times), downcast=\"float\")\n",
    "        edgelist[\"user_id\"] = a_series\n",
    "        edgelist[\"behavioural_data\"] = b_series\n",
    "        edgelist[\"clicks\"] = t_series\n",
    "        edgelist.to_csv(f\"/evolvegcn/explanation_data/5weeks/el_{postfix}_week_{t}.csv\", index=False)\n",
    "\n",
    "save_graphs(trains_graphs, train_roles, \"train\")\n",
    "save_graphs(val_graphs, val_roles, \"dev\")\n",
    "save_graphs(test_graphs, test_roles, \"test\")\n"
   ],
   "metadata": {
    "collapsed": false,
    "pycharm": {
     "name": "#%%\n"
    }
   }
  },
  {
   "cell_type": "code",
   "execution_count": null,
   "outputs": [],
   "source": [
    "def save_features(graphs, roles, postfix):\n",
    "    nodes = [i for i in range(len(roles))]\n",
    "    nodes = pd.Series(nodes)\n",
    "    features = pd.get_dummies(nodes, dtype=\"float\")\n",
    "    features.insert(0, \"nodes\", nodes, True)\n",
    "    features.columns = [i for i in range(len(features.columns))]\n",
    "    print(len(features.columns))\n",
    "    features.to_csv(f\"/evolvegcn/explanation_data/5weeks/node_feat_{postfix}.csv\", index=False)\n",
    "    print(features)\n",
    "\n",
    "save_features(trains_graphs, train_roles, \"train\")\n",
    "save_features(val_graphs, val_roles, \"dev\")\n",
    "save_features(test_graphs, test_roles, \"test\")"
   ],
   "metadata": {
    "collapsed": false,
    "pycharm": {
     "name": "#%%\n",
     "is_executing": true
    }
   }
  },
  {
   "cell_type": "code",
   "execution_count": null,
   "outputs": [],
   "source": [],
   "metadata": {
    "collapsed": false,
    "pycharm": {
     "name": "#%%\n"
    }
   }
  }
 ],
 "metadata": {
  "kernelspec": {
   "display_name": "Python 3",
   "language": "python",
   "name": "python3"
  },
  "language_info": {
   "codemirror_mode": {
    "name": "ipython",
    "version": 2
   },
   "file_extension": ".py",
   "mimetype": "text/x-python",
   "name": "python",
   "nbconvert_exporter": "python",
   "pygments_lexer": "ipython2",
   "version": "2.7.6"
  }
 },
 "nbformat": 4,
 "nbformat_minor": 0
}